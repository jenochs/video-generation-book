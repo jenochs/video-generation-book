{
 "nbformat": 4,
 "nbformat_minor": 0,
 "metadata": {
  "colab": {
   "provenance": [],
   "gpuType": "A100"
  },
  "kernelspec": {
   "name": "python3",
   "display_name": "Python 3"
  },
  "language_info": {
   "name": "python"
  },
  "accelerator": "GPU"
 },
 "cells": [
  {
   "cell_type": "markdown",
   "metadata": {
    "id": "header"
   },
   "source": [
    "# HunyuanVideo on Google Colab A100\n",
    "\n",
    "Generate high-quality videos using HunyuanVideo model on Google Colab A100 GPU\n",
    "\n",
    "**Requirements:**\n",
    "- Google Colab Pro/Pro+ with A100 GPU (40GB VRAM)\n",
    "- Runtime: Python 3 with GPU acceleration"
   ]
  },
  {
   "cell_type": "code",
   "metadata": {
    "id": "setup"
   },
   "source": [
    "# Check GPU and setup environment\n",
    "!nvidia-smi\n",
    "\n",
    "import torch\n",
    "print(f\"CUDA available: {torch.cuda.is_available()}\")\n",
    "if torch.cuda.is_available():\n",
    "    print(f\"GPU: {torch.cuda.get_device_name()}\")\n",
    "    print(f\"VRAM: {torch.cuda.get_device_properties(0).total_memory / 1e9:.1f} GB\")"
   ],
   "execution_count": null,
   "outputs": []
  },
  {
   "cell_type": "code",
   "metadata": {
    "id": "install"
   },
   "source": "# Install HunyuanVideo dependencies with stable versions\\n!pip install diffusers[torch]==0.33.1\\n!pip install transformers==4.52.4\\n!pip install accelerate==1.1.1  # Stable version compatible with transformers 4.52.4\\n!pip install safetensors==0.4.5  # Stable version from late 2024\\n!pip install xformers==0.0.28.post2  # Stable version for CUDA 12.x\\n!pip install imageio-ffmpeg  # For video processing",
   "outputs": []
  },
  {
   "cell_type": "code",
   "metadata": {
    "id": "imports"
   },
   "source": [
    "import torch\n",
    "import numpy as np\n",
    "from diffusers import HunyuanVideoPipeline\n",
    "import imageio\n",
    "from IPython.display import Video, display\n",
    "import gc\n",
    "import os"
   ],
   "execution_count": null,
   "outputs": []
  },
  {
   "cell_type": "code",
   "metadata": {
    "id": "load_model"
   },
   "source": [
    "# Load HunyuanVideo with A100 optimizations\n",
    "model_id = \"hunyuanvideo-community/HunyuanVideo\"\n",
    "\n",
    "print(\"Loading HunyuanVideo pipeline...\")\n",
    "pipe = HunyuanVideoPipeline.from_pretrained(\n",
    "    model_id,\n",
    "    torch_dtype=torch.float16,\n",
    "    device_map=\"auto\"\n",
    ")\n",
    "\n",
    "# Memory optimizations for A100 40GB\n",
    "pipe.enable_sequential_cpu_offload()\n",
    "pipe.vae.enable_tiling()\n",
    "pipe.vae.enable_slicing()\n",
    "\n",
    "print(\"Model loaded successfully!\")"
   ],
   "execution_count": null,
   "outputs": []
  },
  {
   "cell_type": "code",
   "metadata": {
    "id": "generate"
   },
   "source": [
    "# Generate video\n",
    "prompt = \"A majestic golden retriever running through a sunlit meadow, slow motion, cinematic\"\n",
    "seed = 42\n",
    "\n",
    "# Set seed for reproducibility\n",
    "torch.manual_seed(seed)\n",
    "np.random.seed(seed)\n",
    "\n",
    "print(f\"Generating: {prompt}\")\n",
    "\n",
    "with torch.inference_mode():\n",
    "    video_frames = pipe(\n",
    "        prompt=prompt,\n",
    "        num_frames=49,\n",
    "        height=720,\n",
    "        width=1280,\n",
    "        num_inference_steps=25,\n",
    "        guidance_scale=7.0,\n",
    "    ).frames[0]\n",
    "\n",
    "print(f\"Generated {len(video_frames)} frames\")"
   ],
   "execution_count": null,
   "outputs": []
  },
  {
   "cell_type": "code",
   "metadata": {
    "id": "save"
   },
   "source": [
    "# Save and display video\n",
    "output_path = \"hunyuan_video.mp4\"\n",
    "fps = 25\n",
    "\n",
    "# Convert PIL to numpy arrays\n",
    "frames_array = [np.array(frame.convert('RGB')) for frame in video_frames]\n",
    "\n",
    "# Save video\n",
    "imageio.mimsave(\n",
    "    output_path,\n",
    "    frames_array,\n",
    "    fps=fps,\n",
    "    codec='libx264',\n",
    "    quality=8\n",
    ")\n",
    "\n",
    "print(f\"Video saved: {output_path}\")\n",
    "\n",
    "# Display in notebook\n",
    "display(Video(output_path, width=640))"
   ],
   "execution_count": null,
   "outputs": []
  },
  {
   "cell_type": "code",
   "metadata": {
    "id": "cleanup"
   },
   "source": [
    "# Clean up memory\n",
    "del pipe\n",
    "del video_frames\n",
    "del frames_array\n",
    "torch.cuda.empty_cache()\n",
    "gc.collect()\n",
    "\n",
    "print(\"Memory cleanup completed\")"
   ],
   "execution_count": null,
   "outputs": []
  }
 ]
}