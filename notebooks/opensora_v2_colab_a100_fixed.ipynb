{
 "cells": [
  {
   "cell_type": "markdown",
   "id": "9cb8029e",
   "metadata": {},
   "source": [
    "# OpenSora v2 on Google Colab A100\n",
    "\n",
    "**Generate high-quality videos using OpenSora v2 with memory optimizations for Google Colab A100 GPU**\n",
    "\n",
    "🚀 **What you'll learn:**\n",
    "- Run OpenSora v2 11B parameter model on Colab A100 (40GB)\n",
    "- Apply advanced memory optimizations and quantization techniques\n",
    "- Generate both text-to-video (T2V) and image-to-video (I2V)\n",
    "- Use QuantCache acceleration for 6x faster inference\n",
    "- Optimize for 256px and 768px resolutions\n",
    "\n",
    "⚡ **Requirements:**\n",
    "- Google Colab Pro+ with A100 GPU access (40GB VRAM required)\n",
    "- ~30-45 minutes for complete setup\n",
    "- Google Drive for video storage (optional)\n",
    "\n",
    "⚠️ **Memory Warning:** OpenSora v2 requires ~27GB+ VRAM even for basic clips. We'll use aggressive optimizations.\n",
    "\n",
    "📚 **Model Info:** hpcai-tech/Open-Sora-v2 - 11B parameter model with T2V/I2V support\n",
    "📖 **From the Book:** *Hands-On Video Generation with AI* - Chapter 4: Advanced Open-Source Models"
   ]
  },
  {
   "cell_type": "markdown",
   "id": "d956460e",
   "metadata": {},
   "source": [
    "## 🔧 1. Environment Setup & GPU Verification\n",
    "\n",
    "First, let's verify we have an A100 GPU and configure the environment for OpenSora v2."
   ]
  },
  {
   "cell_type": "code",
   "execution_count": null,
   "id": "4bcc92b4",
   "metadata": {},
   "outputs": [],
   "source": [
    "# Check GPU availability and specifications\n",
    "\\!nvidia-smi\n",
    "\n",
    "# Verify we have A100 access\n",
    "import subprocess\n",
    "result = subprocess.run(['nvidia-smi', '--query-gpu=name,memory.total', '--format=csv,noheader,nounits'],\n",
    "                       capture_output=True, text=True)\n",
    "print(\"GPU Information:\")\n",
    "gpu_info = result.stdout.strip().split(', ')\n",
    "if len(gpu_info) >= 2:\n",
    "    gpu_name, gpu_memory = gpu_info[0], int(gpu_info[1])\n",
    "    print(f\"   GPU: {gpu_name}\")\n",
    "    print(f\"   Memory: {gpu_memory:,} MB ({gpu_memory/1024:.1f} GB)\")\n",
    "\n",
    "    if \"A100\" in gpu_name and gpu_memory >= 40000:\n",
    "        print(\"   ✅ Perfect\\! A100 40GB detected - suitable for OpenSora v2 with optimizations\")\n",
    "    elif \"A100\" in gpu_name:\n",
    "        print(\"   ⚠️ A100 detected but memory may be limited - aggressive optimizations required\")\n",
    "    else:\n",
    "        print(\"   ❌ Warning: A100 GPU strongly recommended for OpenSora v2\")\n",
    "        print(\"   💡 Consider upgrading to Colab Pro+ for A100 access\")\n",
    "        print(\"   ⚠️ OpenSora v2 requires 27GB+ VRAM even for basic generation\")\n",
    "else:\n",
    "    print(\"   ❌ Unable to detect GPU information\")"
   ]
  }
 ],
 "metadata": {
  "accelerator": "GPU",
  "colab": {
   "gpuType": "A100",
   "provenance": []
  },
  "kernelspec": {
   "display_name": "Python 3",
   "name": "python3"
  },
  "language_info": {
   "name": "python"
  }
 },
 "nbformat": 4,
 "nbformat_minor": 5
}
